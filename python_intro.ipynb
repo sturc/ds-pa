{
 "cells": [
  {
   "attachments": {},
   "cell_type": "markdown",
   "metadata": {},
   "source": [
    "# A very short introduction to python"
   ]
  },
  {
   "attachments": {},
   "cell_type": "markdown",
   "metadata": {},
   "source": [
    "## Whitespace formatting"
   ]
  },
  {
   "cell_type": "code",
   "execution_count": null,
   "metadata": {},
   "outputs": [],
   "source": [
    "# The \"#\" sign marks the start of a comment. \n",
    "# Python uses indentation (in particular whitespaces) to mark a block of code\n",
    "for i in [1, 2, 3, 4, 5]:\n",
    "    print(i)                    # first line in \"for i\" block\n",
    "    for j in [10, 20, 30, 40, 50]:\n",
    "        print(j)                # first line in \"for j\" block\n",
    "        print(i + j)            # last line in \"for j\" block\n",
    "    print(i)                    # last line in \"for i\" block\n",
    "print(\"done looping\")"
   ]
  },
  {
   "attachments": {},
   "cell_type": "markdown",
   "metadata": {},
   "source": [
    "## Modules"
   ]
  },
  {
   "cell_type": "code",
   "execution_count": null,
   "metadata": {},
   "outputs": [],
   "source": [
    "# In order to use advance data science libs (pandas, numpy, ...) and their functions \n",
    "# imports of the according modules and functions have to be declared. \n",
    "import pandas # import the whole module\n",
    "import pandas as pd # import pandas and assign an alias (pd) to it\n",
    "pd.DataFrame()\n",
    "from sklearn.preprocessing import StandardScaler # Import only the special class StandardScaler\n",
    "\n"
   ]
  },
  {
   "attachments": {},
   "cell_type": "markdown",
   "metadata": {},
   "source": [
    "## Lists"
   ]
  },
  {
   "cell_type": "code",
   "execution_count": null,
   "metadata": {},
   "outputs": [],
   "source": [
    "int_list = [1,2,3,4,5]\n",
    "string_list=[\"eins\",\"zwei\",\"drei\",\"vier\",\"fünf\"]\n",
    "print(\"Length of the list \",len(string_list))\n",
    "# get or set the nth element\n",
    "first_element = string_list[0] \n",
    "print (first_element)\n",
    "second_element= string_list[1] \n",
    "print (second_element)\n",
    "# ...\n",
    "last_element = string_list[-1]\n",
    "print (last_element)\n",
    "\n",
    "# slice the list i:j (i=inclusive, j=exclusive)\n",
    "print (string_list[1:3])\n",
    "# the first 2 \n",
    "print (string_list[:2])\n",
    "copy_of_list = string_list[:]\n",
    "print (copy_of_list)\n",
    "\n",
    "# unpack list\n",
    "short_list = [\"Ente\", \"Schwan\"]\n",
    "ente, schwan = short_list\n",
    "print (ente)\n",
    "print (schwan)"
   ]
  },
  {
   "attachments": {},
   "cell_type": "markdown",
   "metadata": {},
   "source": [
    "## Dictionaries"
   ]
  },
  {
   "cell_type": "code",
   "execution_count": null,
   "metadata": {},
   "outputs": [],
   "source": [
    "# A dictionary assigns values to keys \n",
    "empty_dict = {}\n",
    "height = {\"Joe\":170, \"Jill\":176, \"Martina\":181}\n",
    "# get the hight of Joe\n",
    "print (height[\"Joe\"])\n",
    "# correct the hight of Joe to 172\n",
    "height[\"Joe\"]=172\n",
    "print (height[\"Joe\"])\n",
    "# add a new key value pair\n",
    "height[\"Mike\"] = 184\n",
    "print (height)"
   ]
  },
  {
   "attachments": {},
   "cell_type": "markdown",
   "metadata": {},
   "source": [
    "## List Comprehension"
   ]
  },
  {
   "cell_type": "code",
   "execution_count": null,
   "metadata": {},
   "outputs": [],
   "source": [
    "# Transform a list into another list\n",
    "data = [0,1,2,3,4,5,6,7,8,9]\n",
    "print (data)\n",
    "evens = [x for x in data if x % 2 == 0]\n",
    "print (evens)\n",
    "even_squares = [x ** 2 for x in evens]\n",
    "print (even_squares)\n",
    "even_squares_ending_in_six = [x for x in even_squares if x % 10 == 6]\n",
    "print (even_squares_ending_in_six)"
   ]
  }
 ],
 "metadata": {
  "kernelspec": {
   "display_name": "venv",
   "language": "python",
   "name": "python3"
  },
  "language_info": {
   "codemirror_mode": {
    "name": "ipython",
    "version": 3
   },
   "file_extension": ".py",
   "mimetype": "text/x-python",
   "name": "python",
   "nbconvert_exporter": "python",
   "pygments_lexer": "ipython3",
   "version": "3.10.4"
  },
  "orig_nbformat": 4,
  "vscode": {
   "interpreter": {
    "hash": "b4f307b8e534e9e53f9c486642ecef6c8e0edf2f9b060856b2ce39a93f47f0e2"
   }
  }
 },
 "nbformat": 4,
 "nbformat_minor": 2
}
