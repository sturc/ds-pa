{
 "cells": [
  {
   "attachments": {},
   "cell_type": "markdown",
   "metadata": {},
   "source": [
    "# Store Date Preparation"
   ]
  },
  {
   "cell_type": "code",
   "execution_count": null,
   "metadata": {},
   "outputs": [],
   "source": [
    "import pandas as pd\n",
    "from IPython.display import display, HTML\n",
    "from sklearn import preprocessing\n",
    "\n",
    "stores_file=\"../data/rossmann-store-sales/store.csv\"\n",
    "# read in file\n",
    "df_stores=pd.read_csv(stores_file)\n",
    "display(df_stores)"
   ]
  },
  {
   "attachments": {},
   "cell_type": "markdown",
   "metadata": {},
   "source": [
    "## Data Preparation"
   ]
  },
  {
   "cell_type": "code",
   "execution_count": null,
   "metadata": {},
   "outputs": [],
   "source": [
    "## TODO rename PromoInterval to Promo2Interval (see rename method of Pandas Data Frames)\n",
    "## TODO ajust Data Types of Promo2 to Boolean (https://pandas.pydata.org/docs/reference/api/pandas.DataFrame.astype.html)"
   ]
  },
  {
   "attachments": {},
   "cell_type": "markdown",
   "metadata": {},
   "source": [
    "### Promo2 data cleaning"
   ]
  },
  {
   "cell_type": "code",
   "execution_count": 1,
   "metadata": {},
   "outputs": [
    {
     "ename": "NameError",
     "evalue": "name 'df_stores' is not defined",
     "output_type": "error",
     "traceback": [
      "\u001b[0;31m---------------------------------------------------------------------------\u001b[0m",
      "\u001b[0;31mNameError\u001b[0m                                 Traceback (most recent call last)",
      "Cell \u001b[0;32mIn[1], line 2\u001b[0m\n\u001b[1;32m      1\u001b[0m \u001b[38;5;66;03m# locate the problem\u001b[39;00m\n\u001b[0;32m----> 2\u001b[0m \u001b[38;5;28mprint\u001b[39m (\u001b[43mdf_stores\u001b[49m\u001b[38;5;241m.\u001b[39misna()\u001b[38;5;241m.\u001b[39mmean())\n\u001b[1;32m      3\u001b[0m \u001b[38;5;28mprint\u001b[39m (\u001b[38;5;124m\"\u001b[39m\u001b[38;5;124mValue Count\u001b[39m\u001b[38;5;124m\"\u001b[39m,  df_stores[\u001b[38;5;124m\"\u001b[39m\u001b[38;5;124mPromo2\u001b[39m\u001b[38;5;124m\"\u001b[39m]\u001b[38;5;241m.\u001b[39mvalue_counts())\n\u001b[1;32m      4\u001b[0m \u001b[38;5;28mprint\u001b[39m(\u001b[38;5;124m\"\u001b[39m\u001b[38;5;124mNumber of lines without promo2: \u001b[39m\u001b[38;5;124m\"\u001b[39m, df_stores[(df_stores[\u001b[38;5;124m\"\u001b[39m\u001b[38;5;124mPromo2\u001b[39m\u001b[38;5;124m\"\u001b[39m] \u001b[38;5;241m==\u001b[39m \u001b[38;5;28;01mFalse\u001b[39;00m) \u001b[38;5;241m&\u001b[39m (df_stores[\u001b[38;5;124m\"\u001b[39m\u001b[38;5;124mPromo2SinceWeek\u001b[39m\u001b[38;5;124m\"\u001b[39m]\u001b[38;5;241m.\u001b[39misna())]\u001b[38;5;241m.\u001b[39mshape[\u001b[38;5;241m0\u001b[39m])\n",
      "\u001b[0;31mNameError\u001b[0m: name 'df_stores' is not defined"
     ]
    }
   ],
   "source": [
    "# locate the problem\n",
    "print (df_stores.isna().mean())\n",
    "print (\"Value Count\",  df_stores[\"Promo2\"].value_counts())\n",
    "print(\"Number of lines without promo2: \", df_stores[(df_stores[\"Promo2\"] == False) & (df_stores[\"Promo2SinceWeek\"].isna())].shape[0])\n",
    "print(\"Number of lines with promo2 and Null values in Promo2Since: \", df_stores[(df_stores[\"Promo2\"] == True) & (df_stores[\"Promo2SinceWeek\"].isna())].shape[0])\n",
    "\n",
    "# TODO set Promo2Interval, Promo2SinceWeek and Promo2SinceYear to 0 when no Promo2 (see https://pandas.pydata.org/docs/reference/api/pandas.DataFrame.fillna.html)\n",
    "\n",
    "# TODO change data types to int Promo2SinceWeek, Promo2SinceYear\n",
    "\n",
    "print (df_stores.dtypes)"
   ]
  },
  {
   "attachments": {},
   "cell_type": "markdown",
   "metadata": {},
   "source": [
    "### Null values in Competition Distance cleaning"
   ]
  },
  {
   "cell_type": "code",
   "execution_count": null,
   "metadata": {},
   "outputs": [],
   "source": [
    "# TODO handel Null values in CompetitionDistance by deleting the instances completely\n"
   ]
  },
  {
   "attachments": {},
   "cell_type": "markdown",
   "metadata": {},
   "source": [
    "## Binning the Competition Distance"
   ]
  },
  {
   "cell_type": "code",
   "execution_count": null,
   "metadata": {},
   "outputs": [],
   "source": [
    "est = preprocessing.KBinsDiscretizer(n_bins=25, encode='ordinal').fit(df_stores[[\"CompetitionDistance\"]])\n",
    "df_stores[\"CompetitionDistanceBin\"] = est.transform(df_stores[[\"CompetitionDistance\"]])    \n",
    "display(df_stores)\n",
    "# TODO assign a reasonable value to each bin (mean, ...); see https://scikit-learn.org/stable/modules/generated/sklearn.preprocessing.KBinsDiscretizer.html"
   ]
  }
 ],
 "metadata": {
  "kernelspec": {
   "display_name": "venv",
   "language": "python",
   "name": "python3"
  },
  "language_info": {
   "codemirror_mode": {
    "name": "ipython",
    "version": 3
   },
   "file_extension": ".py",
   "mimetype": "text/x-python",
   "name": "python",
   "nbconvert_exporter": "python",
   "pygments_lexer": "ipython3",
   "version": "3.11.4"
  },
  "orig_nbformat": 4,
  "vscode": {
   "interpreter": {
    "hash": "b4f307b8e534e9e53f9c486642ecef6c8e0edf2f9b060856b2ce39a93f47f0e2"
   }
  }
 },
 "nbformat": 4,
 "nbformat_minor": 2
}
