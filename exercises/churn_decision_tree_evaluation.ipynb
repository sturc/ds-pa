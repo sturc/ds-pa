{
 "cells": [
  {
   "attachments": {},
   "cell_type": "markdown",
   "metadata": {},
   "source": [
    "# The Decision Tree on the Churn Dataset evaluation"
   ]
  },
  {
   "cell_type": "code",
   "execution_count": null,
   "metadata": {},
   "outputs": [],
   "source": [
    "import sys\n",
    "import pandas as pd\n",
    "from IPython.display import display, HTML\n",
    "from sklearn import preprocessing\n",
    "from sklearn.tree import export_text, DecisionTreeClassifier\n",
    "from sklearn.metrics import accuracy_score, confusion_matrix, roc_auc_score, f1_score, precision_recall_fscore_support\n",
    "from sklearn.compose import ColumnTransformer\n",
    "from sklearn.preprocessing import OrdinalEncoder, StandardScaler, FunctionTransformer\n",
    "from sklearn.model_selection import cross_validate, train_test_split, cross_val_score, GridSearchCV\n",
    "\n",
    "sys.path.append(\"..\")"
   ]
  },
  {
   "attachments": {},
   "cell_type": "markdown",
   "metadata": {},
   "source": [
    "## Read the churn file "
   ]
  },
  {
   "cell_type": "code",
   "execution_count": null,
   "metadata": {},
   "outputs": [],
   "source": [
    "inputFile = \"../data/churn.csv\"\n",
    "df = pd.read_csv(inputFile, delimiter=\";\")\n",
    "display(df)\n",
    "print (df.info())"
   ]
  },
  {
   "cell_type": "markdown",
   "metadata": {},
   "source": [
    "## Data Preparation\n",
    "### Transform labels into index"
   ]
  },
  {
   "cell_type": "code",
   "execution_count": null,
   "metadata": {},
   "outputs": [],
   "source": [
    "df_features = df.drop(\"LEAVE\",axis=1) # drop label attribute from the features\n",
    "df_labels = df[[\"LEAVE\"]].copy()\n",
    "display(df_features)\n",
    "display(df_labels)\n",
    "\n",
    "num_attributes = df.select_dtypes(include=[\"int64\"]).columns.tolist()\n",
    "cat_attributes = df.select_dtypes(exclude=[\"int64\"]).columns.tolist()\n",
    "cat_attributes.remove(\"LEAVE\")\n",
    "print(num_attributes)\n",
    "print(cat_attributes)\n",
    "cat_encoder = OrdinalEncoder()\n",
    "label_encoder = OrdinalEncoder()\n",
    "transform_pipeline = ColumnTransformer([(\"num\",StandardScaler(),num_attributes), \\\n",
    "                                        (\"cat\",cat_encoder,cat_attributes)])\n",
    "features_prepared = transform_pipeline.fit_transform(df_features)\n",
    "# transform it back to dataframe\n",
    "df_features_prepared= pd.DataFrame(features_prepared,columns=num_attributes+cat_attributes,index=df_features.index)\n",
    "display(df_features_prepared)\n",
    "labels_prepared = label_encoder.fit_transform(df_labels)\n",
    "df_labels_prepared = pd.DataFrame(labels_prepared,columns=[\"label\"],index=df_labels.index)\n",
    "display(df_labels_prepared)"
   ]
  },
  {
   "cell_type": "markdown",
   "metadata": {},
   "source": [
    "### Spliting the dataset into train and test set"
   ]
  },
  {
   "cell_type": "code",
   "execution_count": null,
   "metadata": {},
   "outputs": [],
   "source": [
    "X_train, X_test, y_train, y_test = train_test_split(df_features_prepared,df_labels_prepared,test_size=0.4,random_state=1234)\n",
    "display (X_train)\n",
    "display (X_test) \n",
    "display (y_train)\n",
    "display (y_test)"
   ]
  },
  {
   "cell_type": "markdown",
   "metadata": {},
   "source": [
    "## Build the decision tree model"
   ]
  },
  {
   "cell_type": "code",
   "execution_count": null,
   "metadata": {},
   "outputs": [],
   "source": [
    "dt = DecisionTreeClassifier(criterion=\"entropy\", min_samples_leaf=12,max_depth=5)"
   ]
  },
  {
   "attachments": {},
   "cell_type": "markdown",
   "metadata": {},
   "source": [
    "## Cross Validation "
   ]
  },
  {
   "cell_type": "code",
   "execution_count": null,
   "metadata": {},
   "outputs": [],
   "source": [
    "param_grid = [{\"criterion\":[\"entropy\"], \"max_depth\": [ 5, 10 ], \"min_samples_leaf\":[5, 10, 15]},\\\n",
    "              {\"criterion\":[\"entropy\",\"gini\"]}]"
   ]
  },
  {
   "attachments": {},
   "cell_type": "markdown",
   "metadata": {},
   "source": [
    "### Hyperparamenter search"
   ]
  },
  {
   "cell_type": "code",
   "execution_count": null,
   "metadata": {},
   "outputs": [],
   "source": [
    "grid_search = GridSearchCV(dt, param_grid, cv=5, scoring=\"accuracy\",return_train_score=True)\n",
    "grid_search.fit(X_train, y_train)\n",
    "print (grid_search.best_params_)\n",
    "print (grid_search.best_estimator_)\n",
    "print (grid_search.best_score_)"
   ]
  },
  {
   "attachments": {},
   "cell_type": "markdown",
   "metadata": {},
   "source": [
    "# Evaluate the Model "
   ]
  },
  {
   "cell_type": "markdown",
   "metadata": {},
   "source": [
    "## Test the model "
   ]
  },
  {
   "cell_type": "code",
   "execution_count": null,
   "metadata": {},
   "outputs": [],
   "source": [
    "# TODO Test error calc"
   ]
  },
  {
   "cell_type": "markdown",
   "metadata": {},
   "source": [
    "## Confusion Matrix "
   ]
  },
  {
   "cell_type": "code",
   "execution_count": null,
   "metadata": {},
   "outputs": [],
   "source": [
    "# TODO confusion matrix calc"
   ]
  },
  {
   "attachments": {},
   "cell_type": "markdown",
   "metadata": {},
   "source": [
    "### Area under ROC"
   ]
  },
  {
   "cell_type": "code",
   "execution_count": null,
   "metadata": {},
   "outputs": [],
   "source": [
    "# TODO"
   ]
  },
  {
   "attachments": {},
   "cell_type": "markdown",
   "metadata": {},
   "source": [
    "### F1"
   ]
  },
  {
   "cell_type": "code",
   "execution_count": null,
   "metadata": {},
   "outputs": [],
   "source": [
    "# TODO calc macro & weighted f1"
   ]
  },
  {
   "cell_type": "markdown",
   "metadata": {},
   "source": [
    "## Summary stats"
   ]
  },
  {
   "cell_type": "code",
   "execution_count": null,
   "metadata": {},
   "outputs": [],
   "source": [
    "# TODO calc stats per label and avg\n",
    "\n",
    "\n"
   ]
  }
 ],
 "metadata": {
  "kernelspec": {
   "display_name": "venv",
   "language": "python",
   "name": "python3"
  },
  "language_info": {
   "codemirror_mode": {
    "name": "ipython",
    "version": 3
   },
   "file_extension": ".py",
   "mimetype": "text/x-python",
   "name": "python",
   "nbconvert_exporter": "python",
   "pygments_lexer": "ipython3",
   "version": "3.10.4"
  },
  "vscode": {
   "interpreter": {
    "hash": "b4f307b8e534e9e53f9c486642ecef6c8e0edf2f9b060856b2ce39a93f47f0e2"
   }
  }
 },
 "nbformat": 4,
 "nbformat_minor": 4
}
