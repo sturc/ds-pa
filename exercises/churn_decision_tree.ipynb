{
 "cells": [
  {
   "attachments": {},
   "cell_type": "markdown",
   "metadata": {},
   "source": [
    "# The Decision Tree on the Churn Dataset"
   ]
  },
  {
   "cell_type": "code",
   "execution_count": null,
   "metadata": {},
   "outputs": [],
   "source": [
    "import sys\n",
    "import pandas as pd\n",
    "from sklearn import preprocessing\n",
    "from sklearn.tree import export_text, DecisionTreeClassifier\n",
    "from sklearn import tree\n",
    "from sklearn.metrics import accuracy_score \n",
    "from sklearn.compose import ColumnTransformer\n",
    "from sklearn.preprocessing import OrdinalEncoder, StandardScaler, FunctionTransformer\n",
    "from sklearn.model_selection import train_test_split\n",
    "\n",
    "from IPython.display import display, HTML\n",
    "\n",
    "sys.path.append(\"..\")"
   ]
  },
  {
   "cell_type": "markdown",
   "metadata": {},
   "source": [
    "## Select the churn file "
   ]
  },
  {
   "cell_type": "code",
   "execution_count": null,
   "metadata": {},
   "outputs": [],
   "source": [
    "inputFile = \"../data/churn.csv\"\n",
    "df = pd.read_csv(inputFile, delimiter=\";\")\n",
    "display(df)\n",
    "print (df.info())"
   ]
  },
  {
   "attachments": {},
   "cell_type": "markdown",
   "metadata": {},
   "source": [
    "## Data Preparation"
   ]
  },
  {
   "cell_type": "code",
   "execution_count": null,
   "metadata": {},
   "outputs": [],
   "source": [
    "df_features = df.drop(\"LEAVE\",axis=1) # drop label attribute from the features\n",
    "df_labels = df[[\"LEAVE\"]].copy()\n",
    "display(df_features)\n",
    "display(df_labels)\n",
    "\n",
    "num_attributes = df.select_dtypes(include=[\"int64\"]).columns.tolist()\n",
    "cat_attributes = df.select_dtypes(exclude=[\"int64\"]).columns.tolist()\n",
    "cat_attributes.remove(\"LEAVE\")\n",
    "print(num_attributes)\n",
    "print(cat_attributes)\n",
    "cat_encoder = OrdinalEncoder()\n",
    "label_encoder = OrdinalEncoder().set_output(transform=\"pandas\")\n",
    "transform_pipeline = ColumnTransformer([(\"num\",StandardScaler(),num_attributes), \\\n",
    "                                        (\"cat\",cat_encoder,cat_attributes)]).set_output(transform=\"pandas\")\n",
    "df_features_prepared = transform_pipeline.fit_transform(df_features)\n",
    "display(df_features_prepared)\n",
    "df_labels_prepared = label_encoder.fit_transform(df_labels)\n",
    "df_labels_prepared.rename(columns={\"LEAVE\":\"label\"},inplace=True)\n",
    "display(df_labels_prepared)\n",
    "# TODO select features \n",
    "# TODO transform features"
   ]
  },
  {
   "cell_type": "markdown",
   "metadata": {},
   "source": [
    "### Spliting the dataset into train and test set"
   ]
  },
  {
   "cell_type": "code",
   "execution_count": null,
   "metadata": {},
   "outputs": [],
   "source": [
    "X_train, X_test, y_train, y_test = train_test_split(df_features_prepared,df_labels_prepared,test_size=0.4,random_state=1234)\n",
    "display (X_train)\n",
    "display (X_test) \n",
    "display (y_train)\n",
    "display (y_test)"
   ]
  },
  {
   "cell_type": "markdown",
   "metadata": {},
   "source": [
    "## Build the decision tree model"
   ]
  },
  {
   "cell_type": "code",
   "execution_count": null,
   "metadata": {},
   "outputs": [],
   "source": [
    "#TODO adjust settings\n",
    "dtc = DecisionTreeClassifier(max_depth=4)\n",
    "dtc_model = dtc.fit(X_train,y_train)\n",
    "text_tree = export_text(dtc_model, feature_names=X_train.columns.values.tolist())\n",
    "print(text_tree)"
   ]
  },
  {
   "cell_type": "markdown",
   "metadata": {},
   "source": [
    "## Do the prediction "
   ]
  },
  {
   "cell_type": "code",
   "execution_count": null,
   "metadata": {},
   "outputs": [],
   "source": [
    "y_pred = dtc_model.predict(X_test)"
   ]
  },
  {
   "attachments": {},
   "cell_type": "markdown",
   "metadata": {},
   "source": [
    "## Manual test"
   ]
  },
  {
   "cell_type": "code",
   "execution_count": null,
   "metadata": {},
   "outputs": [],
   "source": [
    "# join the features to the result\n",
    "result = X_test.copy()\n",
    "result['prediction'] = y_pred\n",
    "result = result.join(y_test)\n",
    "display(result)\n",
    "# TODO calculate the accuracy manual"
   ]
  },
  {
   "cell_type": "markdown",
   "metadata": {},
   "source": [
    "## Evaluate / Test the Model "
   ]
  },
  {
   "cell_type": "code",
   "execution_count": null,
   "metadata": {},
   "outputs": [],
   "source": [
    "# Select (prediction, true label) and compute test error.\n",
    "accuracy = accuracy_score(y_test,y_pred)\n",
    "print(\"Test Error = \" ,(1.0 - accuracy))"
   ]
  }
 ],
 "metadata": {
  "kernelspec": {
   "display_name": "venv",
   "language": "python",
   "name": "python3"
  },
  "language_info": {
   "codemirror_mode": {
    "name": "ipython",
    "version": 3
   },
   "file_extension": ".py",
   "mimetype": "text/x-python",
   "name": "python",
   "nbconvert_exporter": "python",
   "pygments_lexer": "ipython3",
   "version": "3.11.4"
  },
  "vscode": {
   "interpreter": {
    "hash": "b4f307b8e534e9e53f9c486642ecef6c8e0edf2f9b060856b2ce39a93f47f0e2"
   }
  }
 },
 "nbformat": 4,
 "nbformat_minor": 4
}
