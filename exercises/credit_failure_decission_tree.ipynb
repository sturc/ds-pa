{
 "cells": [
  {
   "attachments": {},
   "cell_type": "markdown",
   "metadata": {},
   "source": [
    "# Decission Tree for credit failure example"
   ]
  },
  {
   "cell_type": "code",
   "execution_count": null,
   "metadata": {},
   "outputs": [],
   "source": [
    "import sys\n",
    "sys.path.append(\"..\")\n",
    "from scipy.stats import entropy\n",
    "import pandas as pd\n",
    "from IPython.display import display, HTML\n",
    "from sklearn.tree import export_text, DecisionTreeClassifier\n",
    "from sklearn import tree\n",
    "from sklearn.metrics import accuracy_score \n",
    "from sklearn.preprocessing import OrdinalEncoder, LabelEncoder\n",
    "\n",
    "inputFile = \"../data/credit_failure.csv\""
   ]
  },
  {
   "attachments": {},
   "cell_type": "markdown",
   "metadata": {},
   "source": [
    "## Einlesen der Daten"
   ]
  },
  {
   "cell_type": "code",
   "execution_count": null,
   "metadata": {},
   "outputs": [],
   "source": [
    "df = pd.read_csv(inputFile,delimiter=\";\")\n",
    "display (df)"
   ]
  },
  {
   "attachments": {},
   "cell_type": "markdown",
   "metadata": {},
   "source": [
    "## Aufteilung in Features und Label"
   ]
  },
  {
   "cell_type": "code",
   "execution_count": null,
   "metadata": {},
   "outputs": [],
   "source": [
    "df_features = df.drop([\"Kreditausfall\",\"ID\"],axis=1) # drop label attribute from the features\n",
    "df_labels = df[[\"Kreditausfall\"]].copy()\n",
    "display(df_features)\n",
    "display(df_labels)"
   ]
  },
  {
   "attachments": {},
   "cell_type": "markdown",
   "metadata": {},
   "source": [
    "## Datenvorverarbeitung"
   ]
  },
  {
   "cell_type": "code",
   "execution_count": null,
   "metadata": {},
   "outputs": [],
   "source": [
    "cat_attributes = df.select_dtypes(exclude=[\"int64\"]).columns.tolist()\n",
    "cat_attributes.remove(\"Kreditausfall\")\n",
    "print(cat_attributes)\n",
    "# TODO do the encoding on your own\n",
    "cat_encoder = OrdinalEncoder().set_output(transform=\"pandas\")\n",
    "label_encoder = LabelEncoder()\n",
    "df_features_prepared = cat_encoder.fit_transform(df_features)\n",
    "display(df_features_prepared)\n",
    "labels_prepared = label_encoder.fit_transform(df_labels[\"Kreditausfall\"])\n",
    "df_labels_prepared = pd.DataFrame(labels_prepared,columns=[\"label\"],index=df_labels.index)\n",
    "display(df_labels_prepared)"
   ]
  },
  {
   "attachments": {},
   "cell_type": "markdown",
   "metadata": {},
   "source": [
    "## Erzeugung des Entscheidungsbaums"
   ]
  },
  {
   "cell_type": "code",
   "execution_count": null,
   "metadata": {},
   "outputs": [],
   "source": [
    "dtc = DecisionTreeClassifier(criterion=\"entropy\")\n",
    "dtc_model = dtc.fit(df_features_prepared,df_labels_prepared)\n",
    "text_tree = export_text(dtc_model, feature_names=df_features.columns.values.tolist())\n",
    "print(text_tree)\n",
    "tree.plot_tree(dtc_model,feature_names=df_features_prepared.columns.values.tolist())"
   ]
  }
 ],
 "metadata": {
  "kernelspec": {
   "display_name": "venv",
   "language": "python",
   "name": "python3"
  },
  "language_info": {
   "codemirror_mode": {
    "name": "ipython",
    "version": 3
   },
   "file_extension": ".py",
   "mimetype": "text/x-python",
   "name": "python",
   "nbconvert_exporter": "python",
   "pygments_lexer": "ipython3",
   "version": "3.11.4"
  },
  "vscode": {
   "interpreter": {
    "hash": "b4f307b8e534e9e53f9c486642ecef6c8e0edf2f9b060856b2ce39a93f47f0e2"
   }
  }
 },
 "nbformat": 4,
 "nbformat_minor": 2
}
