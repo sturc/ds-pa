{
 "cells": [
  {
   "attachments": {},
   "cell_type": "markdown",
   "metadata": {},
   "source": [
    "# Rossmann-Store-Sales data preparation"
   ]
  },
  {
   "cell_type": "code",
   "execution_count": null,
   "metadata": {},
   "outputs": [],
   "source": [
    "from datetime import datetime\n",
    "import pandas as pd\n",
    "from pandas.plotting import scatter_matrix\n",
    "from IPython.display import display, HTML\n",
    "import matplotlib.pyplot as plt\n",
    "from sklearn import preprocessing\n",
    "\n",
    "sales_train_file=\"../data/rossmann-store-sales/train.csv\"\n",
    "sales_test_file=\"../data/rossmann-store-sales/test.csv\"\n",
    "stores_file=\"../data/rossmann-store-sales/store.csv\""
   ]
  },
  {
   "cell_type": "code",
   "execution_count": null,
   "metadata": {},
   "outputs": [],
   "source": [
    "# read in files\n",
    "df_sales=pd.read_csv(sales_train_file)\n",
    "display(df_sales)\n",
    "df_stores=pd.read_csv(stores_file)\n",
    "print(df_stores.info())\n",
    "display(df_stores)"
   ]
  },
  {
   "attachments": {},
   "cell_type": "markdown",
   "metadata": {},
   "source": [
    "## Adjust Date Types"
   ]
  },
  {
   "cell_type": "code",
   "execution_count": null,
   "metadata": {},
   "outputs": [],
   "source": [
    "df_stores.rename(columns={\"PromoInterval\": \"Promo2Interval\"}, inplace=True)\n",
    "df_sales[\"Date\"]=pd.to_datetime(df_sales[\"Date\"])\n",
    "df_sales[\"StateHoliday\"]=df_sales[\"StateHoliday\"].astype('str')\n",
    "df_stores[\"Promo2\"]=df_stores['Promo2'].astype('bool')"
   ]
  },
  {
   "cell_type": "markdown",
   "metadata": {},
   "source": [
    "## Join Tables"
   ]
  },
  {
   "cell_type": "code",
   "execution_count": null,
   "metadata": {},
   "outputs": [],
   "source": [
    "df_joined = pd.merge(df_sales, df_stores, how=\"inner\", on=\"Store\")\n",
    "display(df_joined)"
   ]
  },
  {
   "attachments": {},
   "cell_type": "markdown",
   "metadata": {},
   "source": [
    "## Null Value handling"
   ]
  },
  {
   "cell_type": "code",
   "execution_count": null,
   "metadata": {},
   "outputs": [],
   "source": [
    "# problem location \n",
    "df_joined.isna().mean()"
   ]
  },
  {
   "cell_type": "code",
   "execution_count": null,
   "metadata": {},
   "outputs": [],
   "source": [
    "# TODO do a cleaver null value handling "
   ]
  },
  {
   "cell_type": "code",
   "execution_count": null,
   "metadata": {},
   "outputs": [],
   "source": [
    "# handel promo2\n",
    "# locate the problem\n",
    "print (\"Value Count\",  df_joined[\"Promo2\"].value_counts())\n",
    "print(\"Number of lines without promo2: \", df_joined[(df_joined[\"Promo2\"] == False) & (df_joined[\"Promo2SinceWeek\"].isna())].shape[0])\n",
    "print(\"Number of lines with promo2 and Null Values in Promo2 science: \", df_joined[(df_joined[\"Promo2\"] == True) & (df_joined[\"Promo2SinceWeek\"].isna())].shape[0])\n",
    "# TODO promo2 problem handling "
   ]
  },
  {
   "cell_type": "code",
   "execution_count": null,
   "metadata": {},
   "outputs": [],
   "source": [
    "num_attributes = df_joined.select_dtypes(include=[\"int64\", \"float64\"])\n",
    "cat_attributes = df_joined.select_dtypes(include=[\"object\", \"bool\"])\n",
    "# num values per cat attribute\n",
    "cat_attributes.apply(lambda x: x.unique().shape[0])"
   ]
  },
  {
   "attachments": {},
   "cell_type": "markdown",
   "metadata": {},
   "source": [
    "## Split Attributes / Create new ones"
   ]
  },
  {
   "cell_type": "code",
   "execution_count": null,
   "metadata": {},
   "outputs": [],
   "source": [
    "#TODO split the Date into separate year, month and day attributes"
   ]
  },
  {
   "attachments": {},
   "cell_type": "markdown",
   "metadata": {},
   "source": [
    "## Show correlations"
   ]
  },
  {
   "cell_type": "code",
   "execution_count": null,
   "metadata": {},
   "outputs": [],
   "source": [
    "# TODO show correlations within the dataset "
   ]
  },
  {
   "attachments": {},
   "cell_type": "markdown",
   "metadata": {},
   "source": [
    "## Binning CompetitionDistance"
   ]
  },
  {
   "cell_type": "code",
   "execution_count": null,
   "metadata": {},
   "outputs": [],
   "source": [
    "# TODO Binning the CompetitionDistance attribute"
   ]
  }
 ],
 "metadata": {
  "kernelspec": {
   "display_name": "venv",
   "language": "python",
   "name": "python3"
  },
  "language_info": {
   "codemirror_mode": {
    "name": "ipython",
    "version": 3
   },
   "file_extension": ".py",
   "mimetype": "text/x-python",
   "name": "python",
   "nbconvert_exporter": "python",
   "pygments_lexer": "ipython3",
   "version": "3.10.4"
  },
  "orig_nbformat": 4,
  "vscode": {
   "interpreter": {
    "hash": "b4f307b8e534e9e53f9c486642ecef6c8e0edf2f9b060856b2ce39a93f47f0e2"
   }
  }
 },
 "nbformat": 4,
 "nbformat_minor": 2
}
