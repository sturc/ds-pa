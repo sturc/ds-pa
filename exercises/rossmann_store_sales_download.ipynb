{
 "cells": [
  {
   "cell_type": "code",
   "execution_count": null,
   "metadata": {},
   "outputs": [],
   "source": [
    "import urllib.request\n",
    "import ssl\n",
    "ssl._create_default_https_context = ssl._create_unverified_context\n",
    "\n",
    "store_url=\"https://github.com/juniorcl/rossman-store-sales/raw/main/databases/store.csv\"\n",
    "test_url=\"https://github.com/juniorcl/rossman-store-sales/raw/main/databases/test.csv\"\n",
    "train_url=\"https://github.com/juniorcl/rossman-store-sales/raw/main/databases/train.csv\"\n",
    "\n",
    "urllib.request.urlretrieve(store_url, \"../data/rossmann-store-sales/store.csv\")\n",
    "urllib.request.urlretrieve(test_url, \"../data/rossmann-store-sales/test.csv\")\n",
    "urllib.request.urlretrieve(train_url, \"../data/rossmann-store-sales/train.csv\")"
   ]
  }
 ],
 "metadata": {
  "kernelspec": {
   "display_name": "venv",
   "language": "python",
   "name": "python3"
  },
  "language_info": {
   "codemirror_mode": {
    "name": "ipython",
    "version": 3
   },
   "file_extension": ".py",
   "mimetype": "text/x-python",
   "name": "python",
   "nbconvert_exporter": "python",
   "pygments_lexer": "ipython3",
   "version": "3.11.9"
  },
  "orig_nbformat": 2,
  "vscode": {
   "interpreter": {
    "hash": "b4f307b8e534e9e53f9c486642ecef6c8e0edf2f9b060856b2ce39a93f47f0e2"
   }
  }
 },
 "nbformat": 4,
 "nbformat_minor": 2
}
