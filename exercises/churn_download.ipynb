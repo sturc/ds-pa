{
 "metadata": {
  "language_info": {
   "codemirror_mode": {
    "name": "ipython",
    "version": 3
   },
   "file_extension": ".py",
   "mimetype": "text/x-python",
   "name": "python",
   "nbconvert_exporter": "python",
   "pygments_lexer": "ipython3",
   "version": "3.7.5"
  },
  "orig_nbformat": 2,
  "kernelspec": {
   "name": "ds_db-.venv",
   "display_name": "Python 3.7.5  ('.venv': venv)"
  }
 },
 "nbformat": 4,
 "nbformat_minor": 2,
 "cells": [
  {
   "cell_type": "code",
   "execution_count": null,
   "metadata": {},
   "outputs": [],
   "source": [
    "import urllib.request\n",
    "\n",
    "url='https://dl.dropboxusercontent.com/s/fp31kv3ya7efgbr/churn.csv?dl=1'\n",
    "\n",
    "urllib.request.urlretrieve(url, \"../data/churn.csv\")"
   ]
  }
 ]
}