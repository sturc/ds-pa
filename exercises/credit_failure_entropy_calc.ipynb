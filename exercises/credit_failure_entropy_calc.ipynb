{
 "cells": [
  {
   "cell_type": "markdown",
   "metadata": {},
   "source": [
    "# Calculate the entropy"
   ]
  },
  {
   "cell_type": "markdown",
   "metadata": {},
   "source": [
    "## The Credit Failure Example"
   ]
  },
  {
   "cell_type": "code",
   "execution_count": null,
   "metadata": {},
   "outputs": [],
   "source": [
    "import sys\n",
    "sys.path.append(\"..\")\n",
    "from scipy.stats import entropy\n",
    "import pandas as pd\n",
    "from IPython.display import display, HTML\n",
    "\n",
    "inputFile = \"../data/credit_failure.csv\""
   ]
  },
  {
   "cell_type": "code",
   "execution_count": null,
   "metadata": {},
   "outputs": [],
   "source": [
    "def calc_bin_entropy (dataframe : pd.DataFrame, label=\"Kreditausfall\"):\n",
    "    \"\"\" calculates the entropy of the given dataframe based on the given label \"\"\"\n",
    "    numRows= dataframe.shape[0]\n",
    "    truefalse = dataframe.groupby(label).count().reset_index()\n",
    "    if truefalse.shape[0] != 2 :\n",
    "        raise Exception('infalid dataframe or label')\n",
    "    else : \n",
    "        return entropy([truefalse.iloc[(0,1)] / numRows, \\\n",
    "                truefalse.iloc[(1,1)]/ numRows ], base=2)"
   ]
  },
  {
   "cell_type": "code",
   "execution_count": null,
   "metadata": {},
   "outputs": [],
   "source": [
    "df = pd.read_csv(inputFile,delimiter=\";\")\n",
    "display (df)"
   ]
  },
  {
   "cell_type": "code",
   "execution_count": null,
   "metadata": {},
   "outputs": [],
   "source": [
    "baseEntropy = calc_bin_entropy(df) \n",
    "print (baseEntropy)\n",
    "kopfformRundEntropy = calc_bin_entropy(df[df[\"Kopfform\"] == \"Rund\"])\n",
    "print (kopfformRundEntropy)\n",
    "kopfformQuadratischEntropy = calc_bin_entropy(df[df[\"Kopfform\"] == \"Quadratisch\"])\n",
    "print (kopfformQuadratischEntropy)"
   ]
  },
  {
   "cell_type": "code",
   "execution_count": null,
   "metadata": {},
   "outputs": [],
   "source": [
    "# TODO continue with calculating "
   ]
  }
 ],
 "metadata": {
  "kernelspec": {
   "display_name": "venv",
   "language": "python",
   "name": "python3"
  },
  "language_info": {
   "codemirror_mode": {
    "name": "ipython",
    "version": 3
   },
   "file_extension": ".py",
   "mimetype": "text/x-python",
   "name": "python",
   "nbconvert_exporter": "python",
   "pygments_lexer": "ipython3",
   "version": "3.11.4"
  },
  "vscode": {
   "interpreter": {
    "hash": "b4f307b8e534e9e53f9c486642ecef6c8e0edf2f9b060856b2ce39a93f47f0e2"
   }
  }
 },
 "nbformat": 4,
 "nbformat_minor": 2
}
