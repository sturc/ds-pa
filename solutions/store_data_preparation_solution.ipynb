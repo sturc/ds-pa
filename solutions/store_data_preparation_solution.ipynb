{
 "cells": [
  {
   "attachments": {},
   "cell_type": "markdown",
   "metadata": {},
   "source": [
    "# Store Date Preparation"
   ]
  },
  {
   "cell_type": "code",
   "execution_count": null,
   "metadata": {},
   "outputs": [],
   "source": [
    "import pandas as pd\n",
    "from IPython.display import display, HTML\n",
    "from sklearn import preprocessing\n",
    "\n",
    "stores_file=\"../data/rossmann-store-sales/store.csv\"\n",
    "# read in file\n",
    "df_stores=pd.read_csv(stores_file)"
   ]
  },
  {
   "attachments": {},
   "cell_type": "markdown",
   "metadata": {},
   "source": [
    "## Data Preparation"
   ]
  },
  {
   "cell_type": "code",
   "execution_count": null,
   "metadata": {},
   "outputs": [],
   "source": [
    "## TODO rename PromoInterval to Promo2Interval\n",
    "df_stores.rename(columns={\"PromoInterval\": \"Promo2Interval\"}, inplace=True)\n",
    "## TODO ajust Data Types of Promo2 to Boolean\n",
    "df_stores[\"Promo2\"]=df_stores['Promo2'].astype('bool')\n",
    "print(df_stores.info())\n",
    "display(df_stores)"
   ]
  },
  {
   "attachments": {},
   "cell_type": "markdown",
   "metadata": {},
   "source": [
    "### Promo2 data cleaning"
   ]
  },
  {
   "cell_type": "code",
   "execution_count": null,
   "metadata": {},
   "outputs": [],
   "source": [
    "# handel promo2\n",
    "# locate the problem\n",
    "print (\"Value Count\",  df_stores[\"Promo2\"].value_counts())\n",
    "print(\"Number of lines without promo2: \", df_stores[(df_stores[\"Promo2\"] == False) & (df_stores[\"Promo2SinceWeek\"].isna())].shape[0])\n",
    "print(\"Number of lines with promo2 and Null values in Promo2Since: \", df_stores[(df_stores[\"Promo2\"] == True) & (df_stores[\"Promo2SinceWeek\"].isna())].shape[0])\n",
    "# Set all to 0 when no Promo2\n",
    "\n",
    "df_stores[\"Promo2Interval\"].fillna(0, inplace=True)\n",
    "df_stores[\"Promo2SinceWeek\"].fillna(0, inplace=True)\n",
    "df_stores[\"Promo2SinceYear\"].fillna(0, inplace=True)\n",
    "df_stores.isna().mean()\n",
    "## change data types\n",
    "df_stores[\"Promo2SinceWeek\"] = df_stores[\"Promo2SinceWeek\"].astype(int)\n",
    "df_stores[\"Promo2SinceYear\"] = df_stores[\"Promo2SinceYear\"].astype(int)\n",
    "df_stores.dtypes"
   ]
  },
  {
   "attachments": {},
   "cell_type": "markdown",
   "metadata": {},
   "source": [
    "### Null values in Competition Distance cleaning"
   ]
  },
  {
   "cell_type": "code",
   "execution_count": null,
   "metadata": {},
   "outputs": [],
   "source": [
    "# handel Null values in CompetitionDistance\n",
    "print (df_stores.shape[0])\n",
    "df_stores.dropna(subset=[\"CompetitionDistance\"], inplace=True)\n",
    "print (df_stores.shape[0])\n"
   ]
  },
  {
   "attachments": {},
   "cell_type": "markdown",
   "metadata": {},
   "source": [
    "## Binning the Competition Distance"
   ]
  },
  {
   "cell_type": "code",
   "execution_count": null,
   "metadata": {},
   "outputs": [],
   "source": [
    "\n",
    "est = preprocessing.KBinsDiscretizer(n_bins=25, encode='ordinal').fit(df_stores[[\"CompetitionDistance\"]])\n",
    "df_stores[\"CompetitionDistanceBin\"] = est.transform(df_stores[[\"CompetitionDistance\"]])    \n",
    "display(df_stores)\n",
    "\n",
    "# calc mean for each bin and assign it to each instance\n",
    "mean_dist = df_stores[[\"CompetitionDistance\",\"CompetitionDistanceBin\"]].groupby(\"CompetitionDistanceBin\").mean().reset_index()\n",
    "display(mean_dist)\n",
    "df_stores = pd.merge(df_stores, mean_dist, how=\"inner\", on=\"CompetitionDistanceBin\")\n",
    "display(df_stores)"
   ]
  }
 ],
 "metadata": {
  "kernelspec": {
   "display_name": "venv",
   "language": "python",
   "name": "python3"
  },
  "language_info": {
   "codemirror_mode": {
    "name": "ipython",
    "version": 3
   },
   "file_extension": ".py",
   "mimetype": "text/x-python",
   "name": "python",
   "nbconvert_exporter": "python",
   "pygments_lexer": "ipython3",
   "version": "3.11.4"
  },
  "orig_nbformat": 4,
  "vscode": {
   "interpreter": {
    "hash": "b4f307b8e534e9e53f9c486642ecef6c8e0edf2f9b060856b2ce39a93f47f0e2"
   }
  }
 },
 "nbformat": 4,
 "nbformat_minor": 2
}
