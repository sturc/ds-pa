{
 "cells": [
  {
   "attachments": {},
   "cell_type": "markdown",
   "metadata": {},
   "source": [
    "# Rossmann-Store-Sales data preparation"
   ]
  },
  {
   "cell_type": "code",
   "execution_count": null,
   "metadata": {},
   "outputs": [],
   "source": [
    "from datetime import datetime\n",
    "import pandas as pd\n",
    "from pandas.plotting import scatter_matrix\n",
    "from IPython.display import display, HTML\n",
    "import matplotlib.pyplot as plt\n",
    "from sklearn import preprocessing\n",
    "\n",
    "sales_train_file=\"../data/rossmann-store-sales/train.csv\"\n",
    "sales_test_file=\"../data/rossmann-store-sales/test.csv\"\n",
    "stores_file=\"../data/rossmann-store-sales/store.csv\""
   ]
  },
  {
   "cell_type": "code",
   "execution_count": null,
   "metadata": {},
   "outputs": [],
   "source": [
    "# read in files\n",
    "df_sales=pd.read_csv(sales_train_file)\n",
    "display(df_sales)\n",
    "df_stores=pd.read_csv(stores_file)\n",
    "print(df_stores.info())\n",
    "display(df_stores)"
   ]
  },
  {
   "attachments": {},
   "cell_type": "markdown",
   "metadata": {},
   "source": [
    "## Ajust Date Types"
   ]
  },
  {
   "cell_type": "code",
   "execution_count": null,
   "metadata": {},
   "outputs": [],
   "source": [
    "df_stores.rename(columns={\"PromoInterval\": \"Promo2Interval\"}, inplace=True)\n",
    "df_sales[\"Date\"]=pd.to_datetime(df_sales[\"Date\"])\n",
    "df_sales[\"StateHoliday\"]=df_sales[\"StateHoliday\"].astype('str')\n",
    "df_stores[\"Promo2\"]=df_stores['Promo2'].astype('bool')"
   ]
  },
  {
   "cell_type": "markdown",
   "metadata": {},
   "source": [
    "## Join Tables"
   ]
  },
  {
   "cell_type": "code",
   "execution_count": null,
   "metadata": {},
   "outputs": [],
   "source": [
    "df_joined = pd.merge(df_sales, df_stores, how=\"inner\", on=\"Store\")\n",
    "display(df_joined)"
   ]
  },
  {
   "attachments": {},
   "cell_type": "markdown",
   "metadata": {},
   "source": [
    "## Null Value handling"
   ]
  },
  {
   "cell_type": "code",
   "execution_count": null,
   "metadata": {},
   "outputs": [],
   "source": [
    "# problem location \n",
    "df_joined.isna().mean()"
   ]
  },
  {
   "cell_type": "code",
   "execution_count": null,
   "metadata": {},
   "outputs": [],
   "source": [
    "# drop rows with NULL CompetionDistance\n",
    "df_joined = df_joined.dropna(subset=[\"CompetitionDistance\"])\n",
    "# fill CompetitionOpenSinceMonth\n",
    "df_joined.CompetitionOpenSinceMonth = df_joined.apply(lambda x: x[\"Date\"].month if (pd.isna(x[\"CompetitionOpenSinceMonth\"])) else x[\"CompetitionOpenSinceMonth\"], axis=1)\n",
    "df_joined.CompetitionOpenSinceYear = df_joined.apply(lambda x: x[\"Date\"].year if (pd.isna(x[\"CompetitionOpenSinceYear\"])) else x[\"CompetitionOpenSinceYear\"], axis=1)\n",
    "## change data types\n",
    "df_joined[\"CompetitionOpenSinceMonth\"] = df_joined[\"CompetitionOpenSinceMonth\"].astype(int)\n",
    "df_joined[\"CompetitionOpenSinceYear\"] = df_joined[\"CompetitionOpenSinceYear\"].astype(int)"
   ]
  },
  {
   "cell_type": "code",
   "execution_count": null,
   "metadata": {},
   "outputs": [],
   "source": [
    "# handel promo2\n",
    "# locate the problem\n",
    "print (\"Value Count\",  df_joined[\"Promo2\"].value_counts())\n",
    "print(\"Number of lines without promo2: \", df_joined[(df_joined[\"Promo2\"] == False) & (df_joined[\"Promo2SinceWeek\"].isna())].shape[0])\n",
    "print(\"Number of lines with promo2 and Null Values in Promo2 science: \", df_joined[(df_joined[\"Promo2\"] == True) & (df_joined[\"Promo2SinceWeek\"].isna())].shape[0])\n",
    "\n",
    "# Set all to 0 when no Promo2\n",
    "df_joined[\"Promo2Interval\"].fillna(0, inplace=True)\n",
    "df_joined[\"Promo2SinceWeek\"].fillna(0, inplace=True)\n",
    "df_joined[\"Promo2SinceYear\"].fillna(0, inplace=True)\n",
    "\n",
    "# change data types\n",
    "df_joined[\"Promo2SinceWeek\"] = df_joined[\"Promo2SinceWeek\"].astype(int)\n",
    "df_joined[\"Promo2SinceYear\"] = df_joined[\"Promo2SinceYear\"].astype(int)\n"
   ]
  },
  {
   "cell_type": "code",
   "execution_count": null,
   "metadata": {},
   "outputs": [],
   "source": [
    "num_attributes = df_joined.select_dtypes(include=[\"int64\", \"float64\"])\n",
    "cat_attributes = df_joined.select_dtypes(include=[\"object\", \"bool\"])\n",
    "# num values per cat attribute\n",
    "cat_attributes.apply(lambda x: x.unique().shape[0])"
   ]
  },
  {
   "attachments": {},
   "cell_type": "markdown",
   "metadata": {},
   "source": [
    "## Split Attributes / Create new ones"
   ]
  },
  {
   "cell_type": "code",
   "execution_count": null,
   "metadata": {},
   "outputs": [],
   "source": [
    "def calc_month_between(start_date : datetime, end_date : datetime) -> datetime: \n",
    "    return (end_date.year - start_date.year) * 12 + (end_date.month - start_date.month)\n",
    "\n",
    "df_joined[\"Year\"]=df_joined[\"Date\"].dt.year\n",
    "df_joined[\"Month\"]=df_joined[\"Date\"].dt.month\n",
    "df_joined[\"Day\"]=df_joined[\"Date\"].dt.day\n",
    "df_joined[\"DayName\"]=df_joined[\"Date\"].dt.day_name() \n",
    "df_joined[\"CompetitionMonth\"] = df_joined.apply(lambda x: calc_month_between(datetime(month=x[\"CompetitionOpenSinceMonth\"],year=x[\"CompetitionOpenSinceYear\"],day=1),datetime.today()), axis=1)"
   ]
  },
  {
   "attachments": {},
   "cell_type": "markdown",
   "metadata": {},
   "source": [
    "## Show correlations"
   ]
  },
  {
   "cell_type": "code",
   "execution_count": null,
   "metadata": {},
   "outputs": [],
   "source": [
    "\n",
    "%matplotlib inline\n",
    "df_joined.loc[df_joined[\"Sales\"]>0,[\"Sales\",\"DayOfWeek\"]].hist(bins=50, figsize=(20,15))\n",
    "plt.show()\n",
    "\n",
    "#df_joined.loc[df_joined[\"Sales\"]>0,[\"Sales\",\"DayOfWeek\"]].plot(x=\"DayOfWeek\", y=\"Sales\").line()\n",
    "df_sales_on_day_agg = df_joined.loc[df_joined[\"Sales\"]>0,[\"Sales\",\"DayOfWeek\"]].groupby([\"DayOfWeek\"]).mean()\n",
    "df_sales_on_day_agg.rename(columns= {\"Sales\" : \"Avg\"},inplace=True)\n",
    "df_sales_on_day_agg[\"Count\"] = df_joined.loc[df_joined[\"Sales\"]>0,[\"Sales\",\"DayOfWeek\"]].groupby([\"DayOfWeek\"]).count()\n",
    "df_sales_on_day_agg[\"Max\"] = df_joined.loc[df_joined[\"Sales\"]>0,[\"Sales\",\"DayOfWeek\"]].groupby([\"DayOfWeek\"]).max()\n",
    "df_sales_on_day_agg[\"Min\"] = df_joined.loc[df_joined[\"Sales\"]>0,[\"Sales\",\"DayOfWeek\"]].groupby([\"DayOfWeek\"]).min()\n",
    "\n",
    "display (df_sales_on_day_agg)\n",
    "\n",
    "df_sales_on_day_agg[\"Avg\"].plot.box()\n",
    "\n",
    "plt.show()"
   ]
  },
  {
   "cell_type": "code",
   "execution_count": null,
   "metadata": {},
   "outputs": [],
   "source": [
    "%matplotlib inline\n",
    "aux1 = df_joined.loc[(df_joined[\"Sales\"]>0) & (df_joined[\"CompetitionDistance\"]>0),[\"CompetitionDistance\", \"Sales\"]].groupby(\"CompetitionDistance\").sum().reset_index()\n",
    "aux1.plot.scatter(x=\"CompetitionDistance\", y=\"Sales\", color=\"DarkBlue\", label=\"Sales/Distance\")\n",
    "plt.show()\n",
    "display(aux1)"
   ]
  },
  {
   "attachments": {},
   "cell_type": "markdown",
   "metadata": {},
   "source": [
    "## Binning CompetitionDistance"
   ]
  },
  {
   "cell_type": "code",
   "execution_count": null,
   "metadata": {},
   "outputs": [],
   "source": [
    "est = preprocessing.KBinsDiscretizer(n_bins=25, encode='ordinal',subsample=None).fit(df_joined[[\"CompetitionDistance\"]])\n",
    "df_joined[\"CompetitionDistanceBin\"] = est.transform(df_joined[[\"CompetitionDistance\"]])    \n",
    "display(df_joined)"
   ]
  },
  {
   "cell_type": "code",
   "execution_count": null,
   "metadata": {},
   "outputs": [],
   "source": [
    "# calc mean for each bin and assign it to each instance\n",
    "mean_dist = df_joined[[\"CompetitionDistance\",\"CompetitionDistanceBin\"]].groupby(\"CompetitionDistanceBin\").mean().reset_index()\n",
    "display(mean_dist)\n",
    "df_joined = pd.merge(df_joined, mean_dist, how=\"inner\", on=\"CompetitionDistanceBin\")\n",
    "display(df_joined)"
   ]
  }
 ],
 "metadata": {
  "kernelspec": {
   "display_name": "venv",
   "language": "python",
   "name": "python3"
  },
  "language_info": {
   "codemirror_mode": {
    "name": "ipython",
    "version": 3
   },
   "file_extension": ".py",
   "mimetype": "text/x-python",
   "name": "python",
   "nbconvert_exporter": "python",
   "pygments_lexer": "ipython3",
   "version": "3.10.4"
  },
  "orig_nbformat": 4,
  "vscode": {
   "interpreter": {
    "hash": "b4f307b8e534e9e53f9c486642ecef6c8e0edf2f9b060856b2ce39a93f47f0e2"
   }
  }
 },
 "nbformat": 4,
 "nbformat_minor": 2
}
