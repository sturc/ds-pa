{
 "cells": [
  {
   "cell_type": "markdown",
   "metadata": {},
   "source": [
    "# Calculate the entropy"
   ]
  },
  {
   "cell_type": "markdown",
   "metadata": {},
   "source": [
    "## The Credit Failure Example"
   ]
  },
  {
   "cell_type": "code",
   "execution_count": 1,
   "metadata": {},
   "outputs": [],
   "source": [
    "import sys\n",
    "sys.path.append(\"..\")\n",
    "from scipy.stats import entropy\n",
    "import pandas as pd\n",
    "from IPython.display import display, HTML\n",
    "\n",
    "inputFile = \"../data/credit_failure.csv\""
   ]
  },
  {
   "cell_type": "code",
   "execution_count": 2,
   "metadata": {},
   "outputs": [],
   "source": [
    "def calc_bin_entropy (dataframe : pd.DataFrame, label=\"Kreditausfall\"):\n",
    "    \"\"\" calculates the entropy of the given dataframe based on the given label \"\"\"\n",
    "    numRows= dataframe.shape[0]\n",
    "    truefalse = dataframe.groupby(label).count().reset_index()\n",
    "    if truefalse.shape[0] != 2 :\n",
    "        raise Exception('infalid dataframe or label')\n",
    "    else : \n",
    "        return entropy([truefalse.iloc[(0,1)] / numRows, \\\n",
    "                truefalse.iloc[(1,1)]/ numRows ], base=2)"
   ]
  },
  {
   "cell_type": "code",
   "execution_count": 3,
   "metadata": {},
   "outputs": [
    {
     "data": {
      "text/html": [
       "<div>\n",
       "<style scoped>\n",
       "    .dataframe tbody tr th:only-of-type {\n",
       "        vertical-align: middle;\n",
       "    }\n",
       "\n",
       "    .dataframe tbody tr th {\n",
       "        vertical-align: top;\n",
       "    }\n",
       "\n",
       "    .dataframe thead th {\n",
       "        text-align: right;\n",
       "    }\n",
       "</style>\n",
       "<table border=\"1\" class=\"dataframe\">\n",
       "  <thead>\n",
       "    <tr style=\"text-align: right;\">\n",
       "      <th></th>\n",
       "      <th>ID</th>\n",
       "      <th>Kopfform</th>\n",
       "      <th>Koerperform</th>\n",
       "      <th>Koerperfarbe</th>\n",
       "      <th>Kreditausfall</th>\n",
       "    </tr>\n",
       "  </thead>\n",
       "  <tbody>\n",
       "    <tr>\n",
       "      <th>0</th>\n",
       "      <td>0</td>\n",
       "      <td>Quadratisch</td>\n",
       "      <td>Oval</td>\n",
       "      <td>weiss</td>\n",
       "      <td>No</td>\n",
       "    </tr>\n",
       "    <tr>\n",
       "      <th>1</th>\n",
       "      <td>1</td>\n",
       "      <td>Rund</td>\n",
       "      <td>Oval</td>\n",
       "      <td>schwarz</td>\n",
       "      <td>Yes</td>\n",
       "    </tr>\n",
       "    <tr>\n",
       "      <th>2</th>\n",
       "      <td>2</td>\n",
       "      <td>Quadratisch</td>\n",
       "      <td>Rechteck</td>\n",
       "      <td>weiss</td>\n",
       "      <td>Yes</td>\n",
       "    </tr>\n",
       "    <tr>\n",
       "      <th>3</th>\n",
       "      <td>3</td>\n",
       "      <td>Quadratisch</td>\n",
       "      <td>Rechteck</td>\n",
       "      <td>weiss</td>\n",
       "      <td>Yes</td>\n",
       "    </tr>\n",
       "    <tr>\n",
       "      <th>4</th>\n",
       "      <td>4</td>\n",
       "      <td>Quadratisch</td>\n",
       "      <td>Rechteck</td>\n",
       "      <td>weiss</td>\n",
       "      <td>Yes</td>\n",
       "    </tr>\n",
       "    <tr>\n",
       "      <th>5</th>\n",
       "      <td>5</td>\n",
       "      <td>Rund</td>\n",
       "      <td>Rechteck</td>\n",
       "      <td>schwarz</td>\n",
       "      <td>No</td>\n",
       "    </tr>\n",
       "    <tr>\n",
       "      <th>6</th>\n",
       "      <td>6</td>\n",
       "      <td>Quadratisch</td>\n",
       "      <td>Rechteck</td>\n",
       "      <td>weiss</td>\n",
       "      <td>Yes</td>\n",
       "    </tr>\n",
       "    <tr>\n",
       "      <th>7</th>\n",
       "      <td>7</td>\n",
       "      <td>Quadratisch</td>\n",
       "      <td>Oval</td>\n",
       "      <td>weiss</td>\n",
       "      <td>No</td>\n",
       "    </tr>\n",
       "    <tr>\n",
       "      <th>8</th>\n",
       "      <td>8</td>\n",
       "      <td>Quadratisch</td>\n",
       "      <td>Oval</td>\n",
       "      <td>weiss</td>\n",
       "      <td>No</td>\n",
       "    </tr>\n",
       "    <tr>\n",
       "      <th>9</th>\n",
       "      <td>9</td>\n",
       "      <td>Quadratisch</td>\n",
       "      <td>Rechteck</td>\n",
       "      <td>weiss</td>\n",
       "      <td>Yes</td>\n",
       "    </tr>\n",
       "    <tr>\n",
       "      <th>10</th>\n",
       "      <td>10</td>\n",
       "      <td>Quadratisch</td>\n",
       "      <td>Oval</td>\n",
       "      <td>weiss</td>\n",
       "      <td>No</td>\n",
       "    </tr>\n",
       "    <tr>\n",
       "      <th>11</th>\n",
       "      <td>11</td>\n",
       "      <td>Rund</td>\n",
       "      <td>Oval</td>\n",
       "      <td>weiss</td>\n",
       "      <td>Yes</td>\n",
       "    </tr>\n",
       "  </tbody>\n",
       "</table>\n",
       "</div>"
      ],
      "text/plain": [
       "    ID     Kopfform Koerperform Koerperfarbe Kreditausfall\n",
       "0    0  Quadratisch        Oval        weiss            No\n",
       "1    1         Rund        Oval      schwarz           Yes\n",
       "2    2  Quadratisch    Rechteck        weiss           Yes\n",
       "3    3  Quadratisch    Rechteck        weiss           Yes\n",
       "4    4  Quadratisch    Rechteck        weiss           Yes\n",
       "5    5         Rund    Rechteck      schwarz            No\n",
       "6    6  Quadratisch    Rechteck        weiss           Yes\n",
       "7    7  Quadratisch        Oval        weiss            No\n",
       "8    8  Quadratisch        Oval        weiss            No\n",
       "9    9  Quadratisch    Rechteck        weiss           Yes\n",
       "10  10  Quadratisch        Oval        weiss            No\n",
       "11  11         Rund        Oval        weiss           Yes"
      ]
     },
     "metadata": {},
     "output_type": "display_data"
    }
   ],
   "source": [
    "df = pd.read_csv(inputFile,delimiter=\";\")\n",
    "display (df)"
   ]
  },
  {
   "cell_type": "code",
   "execution_count": 4,
   "metadata": {},
   "outputs": [
    {
     "name": "stdout",
     "output_type": "stream",
     "text": [
      "0.9798687566511527\n",
      "0.9182958340544894\n",
      "0.9910760598382222\n"
     ]
    }
   ],
   "source": [
    "baseEntropy = calc_bin_entropy(df) \n",
    "print (baseEntropy)\n",
    "kopfformRundEntropy = calc_bin_entropy(df[df[\"Kopfform\"] == \"Rund\"])\n",
    "print (kopfformRundEntropy)\n",
    "kopfformQuadratischEntropy = calc_bin_entropy(df[df[\"Kopfform\"] == \"Quadratisch\"])\n",
    "print (kopfformQuadratischEntropy)"
   ]
  },
  {
   "cell_type": "code",
   "execution_count": 5,
   "metadata": {},
   "outputs": [
    {
     "name": "stdout",
     "output_type": "stream",
     "text": [
      "0.6500224216483541\n",
      "0.9182958340544894\n"
     ]
    }
   ],
   "source": [
    "koerperform_rechteck = calc_bin_entropy(df[df[\"Koerperform\"] == \"Rechteck\"])\n",
    "print (koerperform_rechteck)\n",
    "koerperform_oval = calc_bin_entropy(df[df[\"Koerperform\"] == \"Oval\"])\n",
    "print (koerperform_oval)"
   ]
  },
  {
   "cell_type": "code",
   "execution_count": 6,
   "metadata": {},
   "outputs": [
    {
     "name": "stdout",
     "output_type": "stream",
     "text": [
      "0.9709505944546688\n",
      "1.0\n"
     ]
    }
   ],
   "source": [
    "koerperfarbe_weiss = calc_bin_entropy(df[df[\"Koerperfarbe\"] == \"weiss\"])\n",
    "print (koerperfarbe_weiss)\n",
    "koerperfarbe_schwarz = calc_bin_entropy(df[df[\"Koerperfarbe\"] == \"schwarz\"])\n",
    "print (koerperfarbe_schwarz)"
   ]
  }
 ],
 "metadata": {
  "kernelspec": {
   "display_name": "venv",
   "language": "python",
   "name": "python3"
  },
  "language_info": {
   "codemirror_mode": {
    "name": "ipython",
    "version": 3
   },
   "file_extension": ".py",
   "mimetype": "text/x-python",
   "name": "python",
   "nbconvert_exporter": "python",
   "pygments_lexer": "ipython3",
   "version": "3.11.4"
  },
  "vscode": {
   "interpreter": {
    "hash": "b4f307b8e534e9e53f9c486642ecef6c8e0edf2f9b060856b2ce39a93f47f0e2"
   }
  }
 },
 "nbformat": 4,
 "nbformat_minor": 2
}
